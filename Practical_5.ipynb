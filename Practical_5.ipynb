{
  "nbformat": 4,
  "nbformat_minor": 0,
  "metadata": {
    "colab": {
      "provenance": [],
      "authorship_tag": "ABX9TyNFgsqipDdENXw9bJnGVNZ3",
      "include_colab_link": true
    },
    "kernelspec": {
      "name": "python3",
      "display_name": "Python 3"
    },
    "language_info": {
      "name": "python"
    }
  },
  "cells": [
    {
      "cell_type": "markdown",
      "metadata": {
        "id": "view-in-github",
        "colab_type": "text"
      },
      "source": [
        "<a href=\"https://colab.research.google.com/github/sanskruti-1234/Deep-Learning/blob/main/Practical_5.ipynb\" target=\"_parent\"><img src=\"https://colab.research.google.com/assets/colab-badge.svg\" alt=\"Open In Colab\"/></a>"
      ]
    },
    {
      "cell_type": "code",
      "execution_count": 5,
      "metadata": {
        "id": "skyEDfXFJxFj"
      },
      "outputs": [],
      "source": [
        "import pandas as pd\n",
        "import numpy as np\n",
        "from sklearn.model_selection import train_test_split\n",
        "from sklearn.preprocessing import StandardScaler, LabelEncoder\n",
        "from tensorflow.keras.models import Sequential\n",
        "from tensorflow.keras.layers import SimpleRNN, Dense, Dropout\n",
        "from tensorflow.keras.utils import set_random_seed\n"
      ]
    },
    {
      "cell_type": "code",
      "source": [
        "set_random_seed(42)"
      ],
      "metadata": {
        "id": "CSL0OBKkKBNJ"
      },
      "execution_count": 6,
      "outputs": []
    },
    {
      "cell_type": "code",
      "source": [
        "try:\n",
        "    df = pd.read_csv('process_data - process_data.csv')\n",
        "    print(\"Data loaded successfully. Initial rows:\")\n",
        "    print(df.head())\n",
        "except FileNotFoundError:\n",
        "    print(\"Error: 'process_data - process_data.csv' not found. Please ensure the file is accessible.\")\n",
        "    exit()"
      ],
      "metadata": {
        "colab": {
          "base_uri": "https://localhost:8080/"
        },
        "id": "DlIzVIx0KBK5",
        "outputId": "ad370b0a-d093-46f0-a784-a5ade69f4bc1"
      },
      "execution_count": 7,
      "outputs": [
        {
          "output_type": "stream",
          "name": "stdout",
          "text": [
            "Data loaded successfully. Initial rows:\n",
            "       Gene     Sample  FPKM description        tissue metastasis\n",
            "0    TSPAN6  CA.102548  0.93   CA.102548  breast tumor        yes\n",
            "1      TNMD  CA.102548  0.00   CA.102548  breast tumor        yes\n",
            "2      DPM1  CA.102548  0.00   CA.102548  breast tumor        yes\n",
            "3     SCYL3  CA.102548  5.78   CA.102548  breast tumor        yes\n",
            "4  C1orf112  CA.102548  2.83   CA.102548  breast tumor        yes\n"
          ]
        }
      ]
    },
    {
      "cell_type": "code",
      "source": [
        "data_pivot = df.pivot_table(\n",
        "    index=['Sample', 'tissue'],\n",
        "    columns='Gene',\n",
        "    values='FPKM',\n",
        "    fill_value=0\n",
        ").reset_index()"
      ],
      "metadata": {
        "id": "skKmZN8FKBIZ"
      },
      "execution_count": 24,
      "outputs": []
    },
    {
      "cell_type": "code",
      "source": [
        "X_data = data_pivot.drop(columns=['Sample', 'tissue'])\n",
        "y_data_raw = data_pivot['tissue']\n"
      ],
      "metadata": {
        "id": "pN3JH2F7KBF5"
      },
      "execution_count": 9,
      "outputs": []
    },
    {
      "cell_type": "code",
      "source": [
        "label_encoder = LabelEncoder()\n",
        "y = label_encoder.fit_transform(y_data_raw)\n",
        "print(\"\\nEncoded target classes:\", dict(zip(label_encoder.classes_, label_encoder.transform(label_encoder.classes_))))"
      ],
      "metadata": {
        "colab": {
          "base_uri": "https://localhost:8080/"
        },
        "id": "aFgLqcgyKBDZ",
        "outputId": "e5bb834e-df9d-4555-bab2-ac7c798056f1"
      },
      "execution_count": 10,
      "outputs": [
        {
          "output_type": "stream",
          "name": "stdout",
          "text": [
            "\n",
            "Encoded target classes: {'breast tumor': np.int64(0), 'normal breast tissue': np.int64(1)}\n"
          ]
        }
      ]
    },
    {
      "cell_type": "code",
      "source": [
        "scaler = StandardScaler()\n",
        "X_scaled = scaler.fit_transform(X_data)\n",
        "print(f\"\\nOriginal feature shape (Samples x Genes): {X_scaled.shape}\")"
      ],
      "metadata": {
        "colab": {
          "base_uri": "https://localhost:8080/"
        },
        "id": "lEiElS_7KBBC",
        "outputId": "2cde058a-4bcc-453c-e199-f4efbafceafb"
      },
      "execution_count": 12,
      "outputs": [
        {
          "output_type": "stream",
          "name": "stdout",
          "text": [
            "\n",
            "Original feature shape (Samples x Genes): (52, 20246)\n"
          ]
        }
      ]
    },
    {
      "cell_type": "code",
      "source": [
        "num_samples = X_scaled.shape[0]\n",
        "num_timesteps = X_scaled.shape[1]\n",
        "num_features = 1\n",
        "\n",
        "X_rnn = X_scaled.reshape(num_samples, num_timesteps, num_features)\n",
        "print(f\"Reshaped RNN input shape (Samples, Timesteps, Features): {X_rnn.shape}\")"
      ],
      "metadata": {
        "colab": {
          "base_uri": "https://localhost:8080/"
        },
        "id": "HpUCxSFuMAzK",
        "outputId": "4c35f850-88fe-46fc-b4e8-23981d3207d1"
      },
      "execution_count": 14,
      "outputs": [
        {
          "output_type": "stream",
          "name": "stdout",
          "text": [
            "Reshaped RNN input shape (Samples, Timesteps, Features): (52, 20246, 1)\n"
          ]
        }
      ]
    },
    {
      "cell_type": "code",
      "source": [
        "X_train, X_test, y_train, y_test = train_test_split(\n",
        "    X_rnn, y, test_size=0.2, random_state=42, stratify=y\n",
        ")\n",
        "print(f\"Train samples: {X_train.shape[0]}, Test samples: {X_test.shape[0]}\")"
      ],
      "metadata": {
        "colab": {
          "base_uri": "https://localhost:8080/"
        },
        "id": "CX_5Ja1eMAxL",
        "outputId": "e09e3f7f-5695-437a-9b08-5961bcec1f1f"
      },
      "execution_count": 15,
      "outputs": [
        {
          "output_type": "stream",
          "name": "stdout",
          "text": [
            "Train samples: 41, Test samples: 11\n"
          ]
        }
      ]
    },
    {
      "cell_type": "code",
      "source": [
        "model = Sequential([\n",
        "    SimpleRNN(units=64, input_shape=(num_timesteps, num_features)),\n",
        "    Dropout(0.3),\n",
        "    Dense(units=32, activation='relu'),\n",
        "    Dropout(0.3),\n",
        "    Dense(units=1, activation='sigmoid')\n",
        "])"
      ],
      "metadata": {
        "colab": {
          "base_uri": "https://localhost:8080/"
        },
        "id": "4cGeW7bhMAup",
        "outputId": "433938af-17ae-4deb-c270-a1fde28d7520"
      },
      "execution_count": 16,
      "outputs": [
        {
          "output_type": "stream",
          "name": "stderr",
          "text": [
            "/usr/local/lib/python3.12/dist-packages/keras/src/layers/rnn/rnn.py:199: UserWarning: Do not pass an `input_shape`/`input_dim` argument to a layer. When using Sequential models, prefer using an `Input(shape)` object as the first layer in the model instead.\n",
            "  super().__init__(**kwargs)\n"
          ]
        }
      ]
    },
    {
      "cell_type": "code",
      "source": [
        "model.compile(\n",
        "    optimizer='adam',\n",
        "    loss='binary_crossentropy',\n",
        "    metrics=['accuracy']\n",
        ")\n",
        "\n",
        "print(\"\\nModel Summary:\")\n",
        "model.summary()"
      ],
      "metadata": {
        "colab": {
          "base_uri": "https://localhost:8080/",
          "height": 341
        },
        "id": "xsu2X_xaMAtp",
        "outputId": "d2f69bb0-587e-43f1-de3b-d1b0a004b90b"
      },
      "execution_count": 17,
      "outputs": [
        {
          "output_type": "stream",
          "name": "stdout",
          "text": [
            "\n",
            "Model Summary:\n"
          ]
        },
        {
          "output_type": "display_data",
          "data": {
            "text/plain": [
              "\u001b[1mModel: \"sequential\"\u001b[0m\n"
            ],
            "text/html": [
              "<pre style=\"white-space:pre;overflow-x:auto;line-height:normal;font-family:Menlo,'DejaVu Sans Mono',consolas,'Courier New',monospace\"><span style=\"font-weight: bold\">Model: \"sequential\"</span>\n",
              "</pre>\n"
            ]
          },
          "metadata": {}
        },
        {
          "output_type": "display_data",
          "data": {
            "text/plain": [
              "┏━━━━━━━━━━━━━━━━━━━━━━━━━━━━━━━━━┳━━━━━━━━━━━━━━━━━━━━━━━━┳━━━━━━━━━━━━━━━┓\n",
              "┃\u001b[1m \u001b[0m\u001b[1mLayer (type)                   \u001b[0m\u001b[1m \u001b[0m┃\u001b[1m \u001b[0m\u001b[1mOutput Shape          \u001b[0m\u001b[1m \u001b[0m┃\u001b[1m \u001b[0m\u001b[1m      Param #\u001b[0m\u001b[1m \u001b[0m┃\n",
              "┡━━━━━━━━━━━━━━━━━━━━━━━━━━━━━━━━━╇━━━━━━━━━━━━━━━━━━━━━━━━╇━━━━━━━━━━━━━━━┩\n",
              "│ simple_rnn (\u001b[38;5;33mSimpleRNN\u001b[0m)          │ (\u001b[38;5;45mNone\u001b[0m, \u001b[38;5;34m64\u001b[0m)             │         \u001b[38;5;34m4,224\u001b[0m │\n",
              "├─────────────────────────────────┼────────────────────────┼───────────────┤\n",
              "│ dropout (\u001b[38;5;33mDropout\u001b[0m)               │ (\u001b[38;5;45mNone\u001b[0m, \u001b[38;5;34m64\u001b[0m)             │             \u001b[38;5;34m0\u001b[0m │\n",
              "├─────────────────────────────────┼────────────────────────┼───────────────┤\n",
              "│ dense (\u001b[38;5;33mDense\u001b[0m)                   │ (\u001b[38;5;45mNone\u001b[0m, \u001b[38;5;34m32\u001b[0m)             │         \u001b[38;5;34m2,080\u001b[0m │\n",
              "├─────────────────────────────────┼────────────────────────┼───────────────┤\n",
              "│ dropout_1 (\u001b[38;5;33mDropout\u001b[0m)             │ (\u001b[38;5;45mNone\u001b[0m, \u001b[38;5;34m32\u001b[0m)             │             \u001b[38;5;34m0\u001b[0m │\n",
              "├─────────────────────────────────┼────────────────────────┼───────────────┤\n",
              "│ dense_1 (\u001b[38;5;33mDense\u001b[0m)                 │ (\u001b[38;5;45mNone\u001b[0m, \u001b[38;5;34m1\u001b[0m)              │            \u001b[38;5;34m33\u001b[0m │\n",
              "└─────────────────────────────────┴────────────────────────┴───────────────┘\n"
            ],
            "text/html": [
              "<pre style=\"white-space:pre;overflow-x:auto;line-height:normal;font-family:Menlo,'DejaVu Sans Mono',consolas,'Courier New',monospace\">┏━━━━━━━━━━━━━━━━━━━━━━━━━━━━━━━━━┳━━━━━━━━━━━━━━━━━━━━━━━━┳━━━━━━━━━━━━━━━┓\n",
              "┃<span style=\"font-weight: bold\"> Layer (type)                    </span>┃<span style=\"font-weight: bold\"> Output Shape           </span>┃<span style=\"font-weight: bold\">       Param # </span>┃\n",
              "┡━━━━━━━━━━━━━━━━━━━━━━━━━━━━━━━━━╇━━━━━━━━━━━━━━━━━━━━━━━━╇━━━━━━━━━━━━━━━┩\n",
              "│ simple_rnn (<span style=\"color: #0087ff; text-decoration-color: #0087ff\">SimpleRNN</span>)          │ (<span style=\"color: #00d7ff; text-decoration-color: #00d7ff\">None</span>, <span style=\"color: #00af00; text-decoration-color: #00af00\">64</span>)             │         <span style=\"color: #00af00; text-decoration-color: #00af00\">4,224</span> │\n",
              "├─────────────────────────────────┼────────────────────────┼───────────────┤\n",
              "│ dropout (<span style=\"color: #0087ff; text-decoration-color: #0087ff\">Dropout</span>)               │ (<span style=\"color: #00d7ff; text-decoration-color: #00d7ff\">None</span>, <span style=\"color: #00af00; text-decoration-color: #00af00\">64</span>)             │             <span style=\"color: #00af00; text-decoration-color: #00af00\">0</span> │\n",
              "├─────────────────────────────────┼────────────────────────┼───────────────┤\n",
              "│ dense (<span style=\"color: #0087ff; text-decoration-color: #0087ff\">Dense</span>)                   │ (<span style=\"color: #00d7ff; text-decoration-color: #00d7ff\">None</span>, <span style=\"color: #00af00; text-decoration-color: #00af00\">32</span>)             │         <span style=\"color: #00af00; text-decoration-color: #00af00\">2,080</span> │\n",
              "├─────────────────────────────────┼────────────────────────┼───────────────┤\n",
              "│ dropout_1 (<span style=\"color: #0087ff; text-decoration-color: #0087ff\">Dropout</span>)             │ (<span style=\"color: #00d7ff; text-decoration-color: #00d7ff\">None</span>, <span style=\"color: #00af00; text-decoration-color: #00af00\">32</span>)             │             <span style=\"color: #00af00; text-decoration-color: #00af00\">0</span> │\n",
              "├─────────────────────────────────┼────────────────────────┼───────────────┤\n",
              "│ dense_1 (<span style=\"color: #0087ff; text-decoration-color: #0087ff\">Dense</span>)                 │ (<span style=\"color: #00d7ff; text-decoration-color: #00d7ff\">None</span>, <span style=\"color: #00af00; text-decoration-color: #00af00\">1</span>)              │            <span style=\"color: #00af00; text-decoration-color: #00af00\">33</span> │\n",
              "└─────────────────────────────────┴────────────────────────┴───────────────┘\n",
              "</pre>\n"
            ]
          },
          "metadata": {}
        },
        {
          "output_type": "display_data",
          "data": {
            "text/plain": [
              "\u001b[1m Total params: \u001b[0m\u001b[38;5;34m6,337\u001b[0m (24.75 KB)\n"
            ],
            "text/html": [
              "<pre style=\"white-space:pre;overflow-x:auto;line-height:normal;font-family:Menlo,'DejaVu Sans Mono',consolas,'Courier New',monospace\"><span style=\"font-weight: bold\"> Total params: </span><span style=\"color: #00af00; text-decoration-color: #00af00\">6,337</span> (24.75 KB)\n",
              "</pre>\n"
            ]
          },
          "metadata": {}
        },
        {
          "output_type": "display_data",
          "data": {
            "text/plain": [
              "\u001b[1m Trainable params: \u001b[0m\u001b[38;5;34m6,337\u001b[0m (24.75 KB)\n"
            ],
            "text/html": [
              "<pre style=\"white-space:pre;overflow-x:auto;line-height:normal;font-family:Menlo,'DejaVu Sans Mono',consolas,'Courier New',monospace\"><span style=\"font-weight: bold\"> Trainable params: </span><span style=\"color: #00af00; text-decoration-color: #00af00\">6,337</span> (24.75 KB)\n",
              "</pre>\n"
            ]
          },
          "metadata": {}
        },
        {
          "output_type": "display_data",
          "data": {
            "text/plain": [
              "\u001b[1m Non-trainable params: \u001b[0m\u001b[38;5;34m0\u001b[0m (0.00 B)\n"
            ],
            "text/html": [
              "<pre style=\"white-space:pre;overflow-x:auto;line-height:normal;font-family:Menlo,'DejaVu Sans Mono',consolas,'Courier New',monospace\"><span style=\"font-weight: bold\"> Non-trainable params: </span><span style=\"color: #00af00; text-decoration-color: #00af00\">0</span> (0.00 B)\n",
              "</pre>\n"
            ]
          },
          "metadata": {}
        }
      ]
    },
    {
      "cell_type": "code",
      "source": [
        "history = model.fit(\n",
        "    X_train,\n",
        "    y_train,\n",
        "    epochs=20,\n",
        "    batch_size=32,\n",
        "    validation_split=0.1,\n",
        "    verbose=2\n",
        ")"
      ],
      "metadata": {
        "colab": {
          "base_uri": "https://localhost:8080/"
        },
        "id": "BYen0INiMAsK",
        "outputId": "79cd020a-9f44-4d2a-bcc0-45e562dc238d"
      },
      "execution_count": 18,
      "outputs": [
        {
          "output_type": "stream",
          "name": "stdout",
          "text": [
            "Epoch 1/20\n",
            "2/2 - 10s - 5s/step - accuracy: 0.5556 - loss: 0.7339 - val_accuracy: 0.6000 - val_loss: 0.6107\n",
            "Epoch 2/20\n",
            "2/2 - 10s - 5s/step - accuracy: 0.7778 - loss: 0.5899 - val_accuracy: 1.0000 - val_loss: 0.5609\n",
            "Epoch 3/20\n",
            "2/2 - 7s - 3s/step - accuracy: 0.6111 - loss: 0.6017 - val_accuracy: 1.0000 - val_loss: 0.5207\n",
            "Epoch 4/20\n",
            "2/2 - 11s - 5s/step - accuracy: 0.7778 - loss: 0.5575 - val_accuracy: 1.0000 - val_loss: 0.4820\n",
            "Epoch 5/20\n",
            "2/2 - 11s - 5s/step - accuracy: 0.8611 - loss: 0.5402 - val_accuracy: 1.0000 - val_loss: 0.4480\n",
            "Epoch 6/20\n",
            "2/2 - 10s - 5s/step - accuracy: 0.8333 - loss: 0.4652 - val_accuracy: 1.0000 - val_loss: 0.4202\n",
            "Epoch 7/20\n",
            "2/2 - 7s - 3s/step - accuracy: 0.8333 - loss: 0.4843 - val_accuracy: 1.0000 - val_loss: 0.3919\n",
            "Epoch 8/20\n",
            "2/2 - 7s - 4s/step - accuracy: 0.8333 - loss: 0.4597 - val_accuracy: 1.0000 - val_loss: 0.3615\n",
            "Epoch 9/20\n",
            "2/2 - 6s - 3s/step - accuracy: 0.8611 - loss: 0.4201 - val_accuracy: 1.0000 - val_loss: 0.3385\n",
            "Epoch 10/20\n",
            "2/2 - 11s - 6s/step - accuracy: 0.9167 - loss: 0.4118 - val_accuracy: 1.0000 - val_loss: 0.3171\n",
            "Epoch 11/20\n",
            "2/2 - 7s - 4s/step - accuracy: 0.8611 - loss: 0.4189 - val_accuracy: 1.0000 - val_loss: 0.2988\n",
            "Epoch 12/20\n",
            "2/2 - 9s - 5s/step - accuracy: 0.8889 - loss: 0.3597 - val_accuracy: 1.0000 - val_loss: 0.2870\n",
            "Epoch 13/20\n",
            "2/2 - 8s - 4s/step - accuracy: 0.8611 - loss: 0.3618 - val_accuracy: 1.0000 - val_loss: 0.2797\n",
            "Epoch 14/20\n",
            "2/2 - 7s - 3s/step - accuracy: 0.9722 - loss: 0.2941 - val_accuracy: 1.0000 - val_loss: 0.2685\n",
            "Epoch 15/20\n",
            "2/2 - 10s - 5s/step - accuracy: 0.9167 - loss: 0.3290 - val_accuracy: 1.0000 - val_loss: 0.2604\n",
            "Epoch 16/20\n",
            "2/2 - 8s - 4s/step - accuracy: 0.9167 - loss: 0.3633 - val_accuracy: 1.0000 - val_loss: 0.2526\n",
            "Epoch 17/20\n",
            "2/2 - 6s - 3s/step - accuracy: 0.8889 - loss: 0.3080 - val_accuracy: 1.0000 - val_loss: 0.2404\n",
            "Epoch 18/20\n",
            "2/2 - 8s - 4s/step - accuracy: 0.8889 - loss: 0.3093 - val_accuracy: 1.0000 - val_loss: 0.2261\n",
            "Epoch 19/20\n",
            "2/2 - 10s - 5s/step - accuracy: 0.8889 - loss: 0.2685 - val_accuracy: 1.0000 - val_loss: 0.2166\n",
            "Epoch 20/20\n",
            "2/2 - 9s - 5s/step - accuracy: 0.9167 - loss: 0.2723 - val_accuracy: 1.0000 - val_loss: 0.2073\n"
          ]
        }
      ]
    },
    {
      "cell_type": "code",
      "source": [
        "print(\"\\nEvaluating model on test data...\")\n",
        "loss, accuracy = model.evaluate(X_test, y_test, verbose=0)\n",
        "print(f\"Test Loss: {loss:.4f}\")\n",
        "print(f\"Test Accuracy: {accuracy:.4f}\")\n"
      ],
      "metadata": {
        "colab": {
          "base_uri": "https://localhost:8080/"
        },
        "id": "JlDdyvofMAmL",
        "outputId": "0feb708b-b3de-49cc-be2f-399765fd867e"
      },
      "execution_count": 20,
      "outputs": [
        {
          "output_type": "stream",
          "name": "stdout",
          "text": [
            "\n",
            "Evaluating model on test data...\n",
            "Test Loss: 0.3391\n",
            "Test Accuracy: 0.9091\n"
          ]
        }
      ]
    },
    {
      "cell_type": "code",
      "source": [
        "y_pred_proba = model.predict(X_test)\n",
        "y_pred = (y_pred_proba > 0.5).astype(int)"
      ],
      "metadata": {
        "colab": {
          "base_uri": "https://localhost:8080/"
        },
        "id": "4t0n-pMHNsCj",
        "outputId": "0505ef70-365c-44b8-9a91-9685ad778a24"
      },
      "execution_count": 22,
      "outputs": [
        {
          "output_type": "stream",
          "name": "stdout",
          "text": [
            "\u001b[1m1/1\u001b[0m \u001b[32m━━━━━━━━━━━━━━━━━━━━\u001b[0m\u001b[37m\u001b[0m \u001b[1m1s\u001b[0m 1s/step\n"
          ]
        }
      ]
    },
    {
      "cell_type": "code",
      "source": [
        "from sklearn.metrics import classification_report\n",
        "print(\"\\nClassification Report on Test Data:\")\n",
        "print(classification_report(y_test, y_pred, target_names=label_encoder.classes_))\n"
      ],
      "metadata": {
        "colab": {
          "base_uri": "https://localhost:8080/"
        },
        "id": "MjjiMuBCNr_z",
        "outputId": "7a43bf98-acac-48ac-eb2d-436241a17d09"
      },
      "execution_count": 23,
      "outputs": [
        {
          "output_type": "stream",
          "name": "stdout",
          "text": [
            "\n",
            "Classification Report on Test Data:\n",
            "                      precision    recall  f1-score   support\n",
            "\n",
            "        breast tumor       1.00      0.83      0.91         6\n",
            "normal breast tissue       0.83      1.00      0.91         5\n",
            "\n",
            "            accuracy                           0.91        11\n",
            "           macro avg       0.92      0.92      0.91        11\n",
            "        weighted avg       0.92      0.91      0.91        11\n",
            "\n"
          ]
        }
      ]
    },
    {
      "cell_type": "code",
      "source": [],
      "metadata": {
        "id": "pdd8FMOSNr87"
      },
      "execution_count": null,
      "outputs": []
    }
  ]
}